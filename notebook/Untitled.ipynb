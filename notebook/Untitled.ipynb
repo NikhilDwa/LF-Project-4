{
 "cells": [
  {
   "cell_type": "code",
   "execution_count": 1,
   "metadata": {},
   "outputs": [],
   "source": [
    "import nltk \n",
    "from gensim.models import Word2Vec\n",
    "from nltk.corpus import stopwords\n",
    "import re"
   ]
  },
  {
   "cell_type": "code",
   "execution_count": 49,
   "metadata": {},
   "outputs": [],
   "source": [
    "paragraph = \"\"\"Today is a  sunny day.\"\"\""
   ]
  },
  {
   "cell_type": "code",
   "execution_count": 50,
   "metadata": {},
   "outputs": [],
   "source": [
    "# Preprocessing the data\n",
    "text = re.sub(r'\\[[0-9]*\\]',' ',paragraph)\n",
    "text = re.sub(r'\\s+',' ',text)\n",
    "text = text.lower()\n",
    "text = re.sub(r'\\d',' ',text)\n",
    "text = re.sub(r'\\s+',' ',text)"
   ]
  },
  {
   "cell_type": "code",
   "execution_count": 51,
   "metadata": {},
   "outputs": [
    {
     "data": {
      "text/plain": [
       "'today is a sunny day.'"
      ]
     },
     "execution_count": 51,
     "metadata": {},
     "output_type": "execute_result"
    }
   ],
   "source": [
    "text"
   ]
  },
  {
   "cell_type": "code",
   "execution_count": 52,
   "metadata": {},
   "outputs": [
    {
     "name": "stdout",
     "output_type": "stream",
     "text": [
      "['today', 'is', 'a', 'sunny', 'day', '.']\n"
     ]
    }
   ],
   "source": [
    "# Preparing the dataset\n",
    "# from nltk.tokenize import sent_tokenize\n",
    "sentences = nltk.word_tokenize(text)\n",
    "print(sentences)\n",
    "# sentences = [nltk.word_tokenize(sentence) for sentence in sentences]\n"
   ]
  },
  {
   "cell_type": "code",
   "execution_count": 53,
   "metadata": {},
   "outputs": [],
   "source": [
    "sentences = [nltk.word_tokenize(sentence) for sentence in sentences]"
   ]
  },
  {
   "cell_type": "code",
   "execution_count": 54,
   "metadata": {},
   "outputs": [
    {
     "data": {
      "text/plain": [
       "[['today'], ['is'], ['a'], ['sunny'], ['day'], ['.']]"
      ]
     },
     "execution_count": 54,
     "metadata": {},
     "output_type": "execute_result"
    }
   ],
   "source": [
    "sentences"
   ]
  },
  {
   "cell_type": "code",
   "execution_count": 55,
   "metadata": {
    "scrolled": false
   },
   "outputs": [
    {
     "name": "stdout",
     "output_type": "stream",
     "text": [
      "['today']\n",
      "['is']\n",
      "['a']\n",
      "['sunny']\n",
      "['day']\n",
      "['.']\n"
     ]
    }
   ],
   "source": [
    "for i in range(len(sentences)):\n",
    "    sentences[i] = [word for word in sentences[i] ]\n",
    "    print(sentences[i])\n",
    "#     if word not in stopwords.words('english')"
   ]
  },
  {
   "cell_type": "code",
   "execution_count": 56,
   "metadata": {},
   "outputs": [],
   "source": [
    "model = Word2Vec(sentences, min_count=1)"
   ]
  },
  {
   "cell_type": "code",
   "execution_count": 57,
   "metadata": {},
   "outputs": [
    {
     "data": {
      "text/plain": [
       "<gensim.models.word2vec.Word2Vec at 0x224eef99be0>"
      ]
     },
     "execution_count": 57,
     "metadata": {},
     "output_type": "execute_result"
    }
   ],
   "source": [
    "model"
   ]
  },
  {
   "cell_type": "code",
   "execution_count": 58,
   "metadata": {},
   "outputs": [],
   "source": [
    "words = model.wv.vocab"
   ]
  },
  {
   "cell_type": "code",
   "execution_count": 59,
   "metadata": {},
   "outputs": [
    {
     "data": {
      "text/plain": [
       "{'today': <gensim.models.keyedvectors.Vocab at 0x224eef99910>,\n",
       " 'is': <gensim.models.keyedvectors.Vocab at 0x224eef99c70>,\n",
       " 'a': <gensim.models.keyedvectors.Vocab at 0x224eef990a0>,\n",
       " 'sunny': <gensim.models.keyedvectors.Vocab at 0x224eef99a90>,\n",
       " 'day': <gensim.models.keyedvectors.Vocab at 0x224eef99970>,\n",
       " '.': <gensim.models.keyedvectors.Vocab at 0x224eef99550>}"
      ]
     },
     "execution_count": 59,
     "metadata": {},
     "output_type": "execute_result"
    }
   ],
   "source": [
    "words"
   ]
  },
  {
   "cell_type": "code",
   "execution_count": 60,
   "metadata": {},
   "outputs": [],
   "source": [
    "vector = model.wv['today']"
   ]
  },
  {
   "cell_type": "code",
   "execution_count": 61,
   "metadata": {},
   "outputs": [
    {
     "data": {
      "text/plain": [
       "array([-4.8532430e-03,  6.0844421e-04, -3.5453062e-03, -3.6279929e-03,\n",
       "       -1.9183074e-03,  4.6753292e-03,  1.9127739e-03, -3.9688079e-03,\n",
       "       -3.5878620e-04, -9.4009338e-05,  2.7995710e-03,  2.3672574e-03,\n",
       "        2.8095830e-03, -1.7110527e-03, -2.8472440e-03, -1.5764007e-03,\n",
       "       -1.8482318e-03, -1.7741965e-03, -8.1246207e-04,  2.8478489e-03,\n",
       "       -1.2605299e-03, -2.2503075e-03, -1.5571180e-03, -3.8226857e-03,\n",
       "       -9.4565662e-04, -2.2208146e-03,  2.4710290e-04, -1.6064552e-03,\n",
       "        4.2662974e-03, -2.7094774e-03, -2.5015296e-03,  1.5433016e-03,\n",
       "       -1.4517024e-03, -4.5604380e-03, -2.7942599e-03,  3.6223885e-03,\n",
       "       -2.6322268e-03,  1.9268713e-04,  3.3074543e-03,  1.2376141e-03,\n",
       "       -4.7661150e-03, -1.8059791e-03, -4.3519638e-03,  4.1107461e-03,\n",
       "       -8.2435104e-04,  2.4094370e-03, -1.0105484e-03, -2.4411650e-04,\n",
       "       -3.9236274e-04,  4.8116441e-03,  1.6296189e-03,  2.6931372e-03,\n",
       "        4.4969725e-03, -3.9455565e-03, -4.3268469e-03,  2.2726811e-03,\n",
       "        2.7717368e-03,  2.6502707e-03,  4.5192102e-03,  2.5877466e-03,\n",
       "       -9.8037696e-04, -4.2042946e-03,  2.6458412e-04, -4.7233338e-03,\n",
       "        4.7097444e-03,  2.6600433e-03, -2.3860496e-04,  2.1368414e-03,\n",
       "        4.0816022e-03, -3.0698185e-04,  1.9543767e-03, -1.5665385e-03,\n",
       "       -1.9577050e-03, -2.0818780e-03,  1.1431003e-03, -4.8929816e-03,\n",
       "       -4.8117322e-04,  2.7605828e-03,  2.1669969e-03,  4.0603564e-03,\n",
       "       -2.1523209e-03, -2.3291649e-03, -1.5469507e-03, -3.8723431e-03,\n",
       "        3.0238032e-03,  1.3185251e-03, -1.3225271e-03,  3.9312747e-04,\n",
       "       -3.6243207e-03, -1.1552513e-03,  4.8768544e-03, -4.1594785e-03,\n",
       "       -1.3386752e-03,  2.8687490e-03, -3.8503928e-03, -5.7388272e-04,\n",
       "        4.2330921e-03,  3.2532697e-03, -3.4916645e-03,  4.3148994e-03],\n",
       "      dtype=float32)"
      ]
     },
     "execution_count": 61,
     "metadata": {},
     "output_type": "execute_result"
    }
   ],
   "source": [
    "vector"
   ]
  },
  {
   "cell_type": "code",
   "execution_count": 68,
   "metadata": {},
   "outputs": [],
   "source": [
    "similar = model.wv.most_similar('is')"
   ]
  },
  {
   "cell_type": "code",
   "execution_count": 70,
   "metadata": {},
   "outputs": [],
   "source": [
    "similar.sort()"
   ]
  },
  {
   "cell_type": "code",
   "execution_count": 71,
   "metadata": {},
   "outputs": [
    {
     "data": {
      "text/plain": [
       "[('.', -0.05207916349172592),\n",
       " ('a', -0.003069598227739334),\n",
       " ('day', 0.08415363729000092),\n",
       " ('sunny', 0.09791731089353561),\n",
       " ('today', -0.08774086833000183)]"
      ]
     },
     "execution_count": 71,
     "metadata": {},
     "output_type": "execute_result"
    }
   ],
   "source": [
    "similar"
   ]
  },
  {
   "cell_type": "code",
   "execution_count": null,
   "metadata": {},
   "outputs": [],
   "source": []
  }
 ],
 "metadata": {
  "kernelspec": {
   "display_name": "Python 3",
   "language": "python",
   "name": "python3"
  },
  "language_info": {
   "codemirror_mode": {
    "name": "ipython",
    "version": 3
   },
   "file_extension": ".py",
   "mimetype": "text/x-python",
   "name": "python",
   "nbconvert_exporter": "python",
   "pygments_lexer": "ipython3",
   "version": "3.8.5"
  }
 },
 "nbformat": 4,
 "nbformat_minor": 4
}
